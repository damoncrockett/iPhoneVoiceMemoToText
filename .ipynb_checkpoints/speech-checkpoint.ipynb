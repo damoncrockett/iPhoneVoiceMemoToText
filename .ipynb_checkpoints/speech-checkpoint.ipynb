{
 "cells": [
  {
   "cell_type": "code",
   "execution_count": 1,
   "metadata": {},
   "outputs": [],
   "source": [
    "import io\n",
    "import os\n",
    "from glob2 import glob\n",
    "import numpy as np\n",
    "\n",
    "# Imports the Google Cloud client library\n",
    "from google.cloud import speech\n",
    "from google.cloud.speech import enums\n",
    "from google.cloud.speech import types"
   ]
  },
  {
   "cell_type": "code",
   "execution_count": 2,
   "metadata": {},
   "outputs": [],
   "source": [
    "config = types.RecognitionConfig(encoding=enums.RecognitionConfig.AudioEncoding.FLAC,language_code='en-US')"
   ]
  },
  {
   "cell_type": "code",
   "execution_count": 3,
   "metadata": {},
   "outputs": [],
   "source": [
    "# note: must run:\n",
    "# export GOOGLE_APPLICATION_CREDENTIALS=\"/path/to/space-race/credentials\""
   ]
  },
  {
   "cell_type": "markdown",
   "metadata": {},
   "source": [
    "The reason I'm using the 'space-race' project is just that I don't really care which it is, and that project already had a valid JSON credentials file, which for some reason I don't have for the other projects (I just have the key written in a text file)."
   ]
  },
  {
   "cell_type": "markdown",
   "metadata": {},
   "source": [
    "## Grabbing files"
   ]
  },
  {
   "cell_type": "code",
   "execution_count": 4,
   "metadata": {},
   "outputs": [],
   "source": [
    "DIR = \"/Users/dc987/Dropbox/_unshared/work/projects-papers/dvpy/vox/\""
   ]
  },
  {
   "cell_type": "code",
   "execution_count": 5,
   "metadata": {},
   "outputs": [],
   "source": [
    "SAVEDIR = \"/Users/dc987/Dropbox/_unshared/work/projects-papers/dvpy/vox_transcribed/\""
   ]
  },
  {
   "cell_type": "code",
   "execution_count": 6,
   "metadata": {},
   "outputs": [],
   "source": [
    "allfiles = glob(os.path.join(DIR,\"*.m4a\"))"
   ]
  },
  {
   "cell_type": "code",
   "execution_count": 7,
   "metadata": {},
   "outputs": [],
   "source": [
    "n = len(allfiles)"
   ]
  },
  {
   "cell_type": "markdown",
   "metadata": {},
   "source": [
    "## Resuming after error"
   ]
  },
  {
   "cell_type": "code",
   "execution_count": 8,
   "metadata": {},
   "outputs": [],
   "source": [
    "#allfiles_remaining = allfiles[9:]"
   ]
  },
  {
   "cell_type": "code",
   "execution_count": 9,
   "metadata": {},
   "outputs": [],
   "source": [
    "import pandas as pd\n",
    "#pd.DataFrame(allfiles_remaining).to_csv(\"allfiles_remaining.csv\",index=False)"
   ]
  },
  {
   "cell_type": "code",
   "execution_count": 10,
   "metadata": {},
   "outputs": [],
   "source": [
    "allfiles_remaining = pd.read_csv(\"allfiles_remaining.csv\")\n",
    "allfiles_remaining = allfiles_remaining['0']"
   ]
  },
  {
   "cell_type": "markdown",
   "metadata": {},
   "source": [
    "## Audio Conversion"
   ]
  },
  {
   "cell_type": "code",
   "execution_count": 11,
   "metadata": {},
   "outputs": [],
   "source": [
    "from pydub import AudioSegment"
   ]
  },
  {
   "cell_type": "code",
   "execution_count": 12,
   "metadata": {},
   "outputs": [],
   "source": [
    "def read_clip(filepath):\n",
    "    s = AudioSegment.from_file(filepath, \"m4a\")\n",
    "    assert s.channels==1\n",
    "    return s"
   ]
  },
  {
   "cell_type": "code",
   "execution_count": 13,
   "metadata": {},
   "outputs": [
    {
     "name": "stdout",
     "output_type": "stream",
     "text": [
      "1 of 8 /Users/dc987/Dropbox/_unshared/work/projects-papers/dvpy/vox/ivpy Trans TERF Phil.m4a\n",
      "1631.5022222222221\n",
      "2 of 8 /Users/dc987/Dropbox/_unshared/work/projects-papers/dvpy/vox/Ivpy Wrap up.m4a\n",
      "2119.849333333333\n",
      "3 of 8 /Users/dc987/Dropbox/_unshared/work/projects-papers/dvpy/vox/ML Think Ruscha Ivpy Write.m4a\n",
      "1193.2786666666666\n",
      "4 of 8 /Users/dc987/Dropbox/_unshared/work/projects-papers/dvpy/vox/Nanette Moral Ivpy Calendar Elgin Belt Lamps CDs.m4a\n",
      "3826.132\n",
      "5 of 8 /Users/dc987/Dropbox/_unshared/work/projects-papers/dvpy/vox/Polar Histograms Must Be Flat.m4a\n",
      "938.4306666666666\n",
      "6 of 8 /Users/dc987/Dropbox/_unshared/work/projects-papers/dvpy/vox/The Flat Histogram Is Actually Brilliant.m4a\n",
      "113.08666666666667\n",
      "7 of 8 /Users/dc987/Dropbox/_unshared/work/projects-papers/dvpy/vox/The Meta-Histogram.m4a\n",
      "245.28933333333333\n",
      "8 of 8 /Users/dc987/Dropbox/_unshared/work/projects-papers/dvpy/vox/Uncertainty Inaction GANs Glyph Design Space.m4a\n",
      "118.69733333333333\n"
     ]
    }
   ],
   "source": [
    "for i,filepath in enumerate(allfiles_remaining):\n",
    "    print(i+1,'of',len(allfiles_remaining),filepath)\n",
    "    basename = os.path.basename(filepath)[:-4]\n",
    "    basename = '_'.join(basename.split(\" \"))\n",
    "    \n",
    "    outfile = open(SAVEDIR+basename+'.txt','w')\n",
    "        \n",
    "    s = read_clip(filepath)\n",
    "    print(s.duration_seconds)\n",
    "\n",
    "    total_milliseconds = s.duration_seconds * 1000\n",
    "    breaks = list(np.arange(0,total_milliseconds,60000))\n",
    "    breaks.append(total_milliseconds)\n",
    "        \n",
    "    for i,item in enumerate(breaks):\n",
    "\n",
    "        try:\n",
    "            tmp = s[item:breaks[i+1]]\n",
    "        except:\n",
    "            continue\n",
    "\n",
    "        tmp.export(\"tmp.flac\", format=\"flac\")\n",
    "        client = speech.SpeechClient()\n",
    "\n",
    "        audio_file = io.open('tmp.flac', 'rb')\n",
    "        content = audio_file.read()\n",
    "        audio_file.close()\n",
    "\n",
    "        audio = types.RecognitionAudio(content=content)\n",
    "        response = client.recognize(config, audio)\n",
    "\n",
    "        outfile.write(str(item/1000))\n",
    "        outfile.write('\\n')\n",
    "\n",
    "        for result in response.results:\n",
    "            outfile.write(result.alternatives[0].transcript)\n",
    "            outfile.write('\\n\\n')\n",
    "                \n",
    "    outfile.close()"
   ]
  }
 ],
 "metadata": {
  "kernelspec": {
   "display_name": "Python 3",
   "language": "python",
   "name": "python3"
  },
  "language_info": {
   "codemirror_mode": {
    "name": "ipython",
    "version": 3
   },
   "file_extension": ".py",
   "mimetype": "text/x-python",
   "name": "python",
   "nbconvert_exporter": "python",
   "pygments_lexer": "ipython3",
   "version": "3.6.5"
  }
 },
 "nbformat": 4,
 "nbformat_minor": 2
}
